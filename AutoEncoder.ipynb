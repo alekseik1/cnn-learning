{
 "cells": [
  {
   "cell_type": "code",
   "execution_count": 2,
   "metadata": {
    "ExecuteTime": {
     "end_time": "2019-07-03T17:23:00.102458Z",
     "start_time": "2019-07-03T17:22:59.807454Z"
    }
   },
   "outputs": [
    {
     "name": "stderr",
     "output_type": "stream",
     "text": [
      "Using TensorFlow backend.\n"
     ]
    },
    {
     "name": "stdout",
     "output_type": "stream",
     "text": [
      "WARNING:tensorflow:From C:\\Users\\aleks\\Miniconda3\\lib\\site-packages\\tensorflow\\python\\framework\\op_def_library.py:263: colocate_with (from tensorflow.python.framework.ops) is deprecated and will be removed in a future version.\n",
      "Instructions for updating:\n",
      "Colocations handled automatically by placer.\n"
     ]
    }
   ],
   "source": [
    "from keras.layers import Input, Dense\n",
    "from keras.models import Model\n",
    "\n",
    "# this is the size of our encoded representations\n",
    "encoding_dim = 32  # 32 floats -> compression of factor 24.5, assuming the input is 784 floats\n",
    "\n",
    "# this is our input placeholder\n",
    "input_img = Input(shape=(784,))\n",
    "# \"encoded\" is the encoded representation of the input\n",
    "encoded = Dense(encoding_dim, activation='relu')(input_img)\n",
    "# \"decoded\" is the lossy reconstruction of the input\n",
    "decoded = Dense(784, activation='sigmoid')(encoded)\n",
    "\n",
    "# this model maps an input to its reconstruction\n",
    "autoencoder = Model(input_img, decoded)"
   ]
  },
  {
   "cell_type": "code",
   "execution_count": 3,
   "metadata": {
    "ExecuteTime": {
     "end_time": "2019-07-03T17:23:01.887730Z",
     "start_time": "2019-07-03T17:23:01.883723Z"
    }
   },
   "outputs": [],
   "source": [
    "encoder = Model(input_img, encoded)"
   ]
  },
  {
   "cell_type": "code",
   "execution_count": 4,
   "metadata": {
    "ExecuteTime": {
     "end_time": "2019-07-03T17:23:02.425724Z",
     "start_time": "2019-07-03T17:23:02.411727Z"
    }
   },
   "outputs": [],
   "source": [
    "# create a placeholder for an encoded (32-dimensional) input\n",
    "encoded_input = Input(shape=(encoding_dim,))\n",
    "# retrieve the last layer of the autoencoder model\n",
    "decoder_layer = autoencoder.layers[-1]\n",
    "# create the decoder model\n",
    "decoder = Model(encoded_input, decoder_layer(encoded_input))"
   ]
  },
  {
   "cell_type": "code",
   "execution_count": 5,
   "metadata": {
    "ExecuteTime": {
     "end_time": "2019-07-03T17:23:02.756731Z",
     "start_time": "2019-07-03T17:23:02.699724Z"
    }
   },
   "outputs": [],
   "source": [
    "autoencoder.compile(optimizer='adadelta', loss='binary_crossentropy')"
   ]
  },
  {
   "cell_type": "code",
   "execution_count": 6,
   "metadata": {
    "ExecuteTime": {
     "end_time": "2019-07-03T17:23:03.401723Z",
     "start_time": "2019-07-03T17:23:03.067722Z"
    }
   },
   "outputs": [],
   "source": [
    "from keras.datasets import mnist\n",
    "import numpy as np\n",
    "(x_train, _), (x_test, _) = mnist.load_data()"
   ]
  },
  {
   "cell_type": "code",
   "execution_count": 7,
   "metadata": {
    "ExecuteTime": {
     "end_time": "2019-07-03T17:23:06.445262Z",
     "start_time": "2019-07-03T17:23:06.172230Z"
    }
   },
   "outputs": [
    {
     "name": "stdout",
     "output_type": "stream",
     "text": [
      "(60000, 784)\n",
      "(10000, 784)\n"
     ]
    }
   ],
   "source": [
    "x_train = x_train.astype('float32') / 255.\n",
    "x_test = x_test.astype('float32') / 255.\n",
    "x_train = x_train.reshape((len(x_train), np.prod(x_train.shape[1:])))\n",
    "x_test = x_test.reshape((len(x_test), np.prod(x_test.shape[1:])))\n",
    "print(x_train.shape)\n",
    "print(x_test.shape)"
   ]
  },
  {
   "cell_type": "code",
   "execution_count": 8,
   "metadata": {
    "ExecuteTime": {
     "end_time": "2019-07-03T17:24:54.842607Z",
     "start_time": "2019-07-03T17:23:07.292229Z"
    }
   },
   "outputs": [
    {
     "name": "stdout",
     "output_type": "stream",
     "text": [
      "WARNING:tensorflow:From C:\\Users\\aleks\\Miniconda3\\lib\\site-packages\\tensorflow\\python\\ops\\math_ops.py:3066: to_int32 (from tensorflow.python.ops.math_ops) is deprecated and will be removed in a future version.\n",
      "Instructions for updating:\n",
      "Use tf.cast instead.\n",
      "Train on 60000 samples, validate on 10000 samples\n",
      "Epoch 1/50\n",
      "60000/60000 [==============================] - 27s 447us/step - loss: 0.3557 - val_loss: 0.2708\n",
      "Epoch 2/50\n",
      "60000/60000 [==============================] - 2s 26us/step - loss: 0.2636 - val_loss: 0.2523\n",
      "Epoch 3/50\n",
      "60000/60000 [==============================] - 2s 27us/step - loss: 0.2415 - val_loss: 0.2288\n",
      "Epoch 4/50\n",
      "60000/60000 [==============================] - 2s 27us/step - loss: 0.2215 - val_loss: 0.2117\n",
      "Epoch 5/50\n",
      "60000/60000 [==============================] - 2s 27us/step - loss: 0.2071 - val_loss: 0.1998\n",
      "Epoch 6/50\n",
      "60000/60000 [==============================] - 2s 26us/step - loss: 0.1967 - val_loss: 0.1910\n",
      "Epoch 7/50\n",
      "60000/60000 [==============================] - 2s 26us/step - loss: 0.1888 - val_loss: 0.1839\n",
      "Epoch 8/50\n",
      "60000/60000 [==============================] - 2s 30us/step - loss: 0.1821 - val_loss: 0.1777\n",
      "Epoch 9/50\n",
      "60000/60000 [==============================] - 2s 27us/step - loss: 0.1761 - val_loss: 0.1720\n",
      "Epoch 10/50\n",
      "60000/60000 [==============================] - 2s 27us/step - loss: 0.1707 - val_loss: 0.1669\n",
      "Epoch 11/50\n",
      "60000/60000 [==============================] - 2s 30us/step - loss: 0.1660 - val_loss: 0.1626\n",
      "Epoch 12/50\n",
      "60000/60000 [==============================] - 2s 27us/step - loss: 0.1619 - val_loss: 0.1586\n",
      "Epoch 13/50\n",
      "60000/60000 [==============================] - 2s 26us/step - loss: 0.1582 - val_loss: 0.1551\n",
      "Epoch 14/50\n",
      "60000/60000 [==============================] - 2s 27us/step - loss: 0.1548 - val_loss: 0.1519\n",
      "Epoch 15/50\n",
      "60000/60000 [==============================] - 2s 26us/step - loss: 0.1517 - val_loss: 0.1489\n",
      "Epoch 16/50\n",
      "60000/60000 [==============================] - 2s 26us/step - loss: 0.1488 - val_loss: 0.1461\n",
      "Epoch 17/50\n",
      "60000/60000 [==============================] - 2s 27us/step - loss: 0.1462 - val_loss: 0.1436\n",
      "Epoch 18/50\n",
      "60000/60000 [==============================] - 2s 27us/step - loss: 0.1438 - val_loss: 0.1411\n",
      "Epoch 19/50\n",
      "60000/60000 [==============================] - 2s 28us/step - loss: 0.1414 - val_loss: 0.1389\n",
      "Epoch 20/50\n",
      "60000/60000 [==============================] - 2s 27us/step - loss: 0.1393 - val_loss: 0.1368\n",
      "Epoch 21/50\n",
      "60000/60000 [==============================] - 2s 27us/step - loss: 0.1372 - val_loss: 0.1349\n",
      "Epoch 22/50\n",
      "60000/60000 [==============================] - 2s 27us/step - loss: 0.1353 - val_loss: 0.1330\n",
      "Epoch 23/50\n",
      "60000/60000 [==============================] - 2s 28us/step - loss: 0.1334 - val_loss: 0.1311\n",
      "Epoch 24/50\n",
      "60000/60000 [==============================] - 2s 27us/step - loss: 0.1317 - val_loss: 0.1294\n",
      "Epoch 25/50\n",
      "60000/60000 [==============================] - 2s 28us/step - loss: 0.1300 - val_loss: 0.1277\n",
      "Epoch 26/50\n",
      "60000/60000 [==============================] - 2s 28us/step - loss: 0.1284 - val_loss: 0.1262\n",
      "Epoch 27/50\n",
      "60000/60000 [==============================] - 2s 28us/step - loss: 0.1268 - val_loss: 0.1246\n",
      "Epoch 28/50\n",
      "60000/60000 [==============================] - 2s 27us/step - loss: 0.1254 - val_loss: 0.1233\n",
      "Epoch 29/50\n",
      "60000/60000 [==============================] - 2s 28us/step - loss: 0.1240 - val_loss: 0.1219\n",
      "Epoch 30/50\n",
      "60000/60000 [==============================] - 2s 27us/step - loss: 0.1227 - val_loss: 0.1206\n",
      "Epoch 31/50\n",
      "60000/60000 [==============================] - 2s 28us/step - loss: 0.1215 - val_loss: 0.1194\n",
      "Epoch 32/50\n",
      "60000/60000 [==============================] - 2s 27us/step - loss: 0.1203 - val_loss: 0.1183\n",
      "Epoch 33/50\n",
      "60000/60000 [==============================] - 2s 27us/step - loss: 0.1192 - val_loss: 0.1172\n",
      "Epoch 34/50\n",
      "60000/60000 [==============================] - 2s 27us/step - loss: 0.1182 - val_loss: 0.1162\n",
      "Epoch 35/50\n",
      "60000/60000 [==============================] - 2s 29us/step - loss: 0.1172 - val_loss: 0.1152\n",
      "Epoch 36/50\n",
      "60000/60000 [==============================] - 2s 28us/step - loss: 0.1163 - val_loss: 0.1143\n",
      "Epoch 37/50\n",
      "60000/60000 [==============================] - 2s 29us/step - loss: 0.1154 - val_loss: 0.1135\n",
      "Epoch 38/50\n",
      "60000/60000 [==============================] - 2s 26us/step - loss: 0.1146 - val_loss: 0.1127\n",
      "Epoch 39/50\n",
      "60000/60000 [==============================] - 2s 27us/step - loss: 0.1138 - val_loss: 0.1119\n",
      "Epoch 40/50\n",
      "60000/60000 [==============================] - 2s 26us/step - loss: 0.1131 - val_loss: 0.1112\n",
      "Epoch 41/50\n",
      "60000/60000 [==============================] - 2s 27us/step - loss: 0.1124 - val_loss: 0.1105\n",
      "Epoch 42/50\n",
      "60000/60000 [==============================] - 2s 27us/step - loss: 0.1117 - val_loss: 0.1098\n",
      "Epoch 43/50\n",
      "60000/60000 [==============================] - 2s 27us/step - loss: 0.1111 - val_loss: 0.1092\n",
      "Epoch 44/50\n",
      "60000/60000 [==============================] - 2s 27us/step - loss: 0.1105 - val_loss: 0.1086\n",
      "Epoch 45/50\n",
      "60000/60000 [==============================] - 2s 27us/step - loss: 0.1099 - val_loss: 0.1081\n",
      "Epoch 46/50\n",
      "60000/60000 [==============================] - 2s 27us/step - loss: 0.1094 - val_loss: 0.1076\n",
      "Epoch 47/50\n",
      "60000/60000 [==============================] - 2s 26us/step - loss: 0.1089 - val_loss: 0.1071\n",
      "Epoch 48/50\n",
      "60000/60000 [==============================] - 2s 27us/step - loss: 0.1084 - val_loss: 0.1066\n",
      "Epoch 49/50\n",
      "60000/60000 [==============================] - 2s 27us/step - loss: 0.1079 - val_loss: 0.1061\n",
      "Epoch 50/50\n",
      "60000/60000 [==============================] - 2s 31us/step - loss: 0.1075 - val_loss: 0.1057\n"
     ]
    },
    {
     "data": {
      "text/plain": [
       "<keras.callbacks.History at 0x20d011f9390>"
      ]
     },
     "execution_count": 8,
     "metadata": {},
     "output_type": "execute_result"
    }
   ],
   "source": [
    "autoencoder.fit(x_train, x_train,\n",
    "                epochs=50,\n",
    "                batch_size=256,\n",
    "                shuffle=True,\n",
    "                validation_data=(x_test, x_test))"
   ]
  },
  {
   "cell_type": "code",
   "execution_count": 9,
   "metadata": {
    "ExecuteTime": {
     "end_time": "2019-07-03T17:25:23.189143Z",
     "start_time": "2019-07-03T17:25:22.717141Z"
    }
   },
   "outputs": [],
   "source": [
    "# encode and decode some digits\n",
    "# note that we take them from the *test* set\n",
    "encoded_imgs = encoder.predict(x_test)\n",
    "decoded_imgs = decoder.predict(encoded_imgs)"
   ]
  },
  {
   "cell_type": "code",
   "execution_count": 11,
   "metadata": {
    "ExecuteTime": {
     "end_time": "2019-07-03T17:26:03.618294Z",
     "start_time": "2019-07-03T17:26:03.117276Z"
    }
   },
   "outputs": [
    {
     "data": {
      "image/png": "[encoded data removed]",
      "text/plain": [
       "<Figure size 1440x288 with 20 Axes>"
      ]
     },
     "metadata": {
      "needs_background": "light"
     },
     "output_type": "display_data"
    }
   ],
   "source": [
    "# use Matplotlib (don't ask)\n",
    "import matplotlib.pyplot as plt\n",
    "\n",
    "n = 10  # how many digits we will display\n",
    "plt.figure(figsize=(20, 4))\n",
    "for i in range(n):\n",
    "    # display original\n",
    "    ax = plt.subplot(2, n, i + 1)\n",
    "    plt.imshow(x_test[i].reshape(28, 28))\n",
    "    plt.gray()\n",
    "    ax.get_xaxis().set_visible(False)\n",
    "    ax.get_yaxis().set_visible(False)\n",
    "\n",
    "    # display reconstruction\n",
    "    ax = plt.subplot(2, n, i + 1 + n)\n",
    "    plt.imshow(decoded_imgs[i].reshape(28, 28))\n",
    "    plt.gray()\n",
    "    ax.get_xaxis().set_visible(False)\n",
    "    ax.get_yaxis().set_visible(False)\n",
    "plt.show()"
   ]
  },
  {
   "cell_type": "markdown",
   "metadata": {},
   "source": [
    "## With regularization added"
   ]
  },
  {
   "cell_type": "code",
   "execution_count": 16,
   "metadata": {
    "ExecuteTime": {
     "end_time": "2019-07-03T17:28:57.501913Z",
     "start_time": "2019-07-03T17:28:57.452379Z"
    }
   },
   "outputs": [],
   "source": [
    "from keras import regularizers\n",
    "\n",
    "encoding_dim = 32\n",
    "\n",
    "input_img = Input(shape=(784,))\n",
    "# add a Dense layer with a L1 activity regularizer\n",
    "encoded = Dense(encoding_dim, activation='relu',\n",
    "                activity_regularizer=regularizers.l1(10e-5))(input_img)\n",
    "decoded = Dense(784, activation='sigmoid')(encoded)\n",
    "\n",
    "autoencoder = Model(input_img, decoded)"
   ]
  },
  {
   "cell_type": "code",
   "execution_count": 17,
   "metadata": {
    "ExecuteTime": {
     "end_time": "2019-07-03T17:28:57.679789Z",
     "start_time": "2019-07-03T17:28:57.628499Z"
    }
   },
   "outputs": [],
   "source": [
    "autoencoder.compile(optimizer='adadelta', loss='binary_crossentropy')"
   ]
  },
  {
   "cell_type": "code",
   "execution_count": 19,
   "metadata": {
    "ExecuteTime": {
     "end_time": "2019-07-03T20:33:46.630052Z",
     "start_time": "2019-07-03T17:29:21.932914Z"
    }
   },
   "outputs": [
    {
     "name": "stdout",
     "output_type": "stream",
     "text": [
      "Train on 60000 samples, validate on 10000 samples\n",
      "Epoch 1/100\n",
      "60000/60000 [==============================] - 1s 25us/step - loss: 0.4951 - val_loss: 0.4851\n",
      "Epoch 2/100\n",
      "60000/60000 [==============================] - 2s 26us/step - loss: 0.4759 - val_loss: 0.4671\n",
      "Epoch 3/100\n",
      "60000/60000 [==============================] - 2s 25us/step - loss: 0.4590 - val_loss: 0.4512\n",
      "Epoch 4/100\n",
      "60000/60000 [==============================] - 1s 24us/step - loss: 0.4440 - val_loss: 0.4372\n",
      "Epoch 5/100\n",
      "60000/60000 [==============================] - 1s 24us/step - loss: 0.4308 - val_loss: 0.4248\n",
      "Epoch 6/100\n",
      "60000/60000 [==============================] - 2s 25us/step - loss: 0.4191 - val_loss: 0.4137\n",
      "Epoch 7/100\n",
      "60000/60000 [==============================] - 1s 24us/step - loss: 0.4086 - val_loss: 0.4038\n",
      "Epoch 8/100\n",
      "60000/60000 [==============================] - 1s 25us/step - loss: 0.3992 - val_loss: 0.3949\n",
      "Epoch 9/100\n",
      "60000/60000 [==============================] - 2s 27us/step - loss: 0.3907 - val_loss: 0.3869\n",
      "Epoch 10/100\n",
      "60000/60000 [==============================] - 2s 26us/step - loss: 0.3831 - val_loss: 0.3796\n",
      "Epoch 11/100\n",
      "60000/60000 [==============================] - 2s 26us/step - loss: 0.3761 - val_loss: 0.3730\n",
      "Epoch 12/100\n",
      "60000/60000 [==============================] - 2s 27us/step - loss: 0.3699 - val_loss: 0.3670\n",
      "Epoch 13/100\n",
      "60000/60000 [==============================] - 2s 26us/step - loss: 0.3641 - val_loss: 0.3616\n",
      "Epoch 14/100\n",
      "60000/60000 [==============================] - 2s 26us/step - loss: 0.3589 - val_loss: 0.3566\n",
      "Epoch 15/100\n",
      "60000/60000 [==============================] - 2s 30us/step - loss: 0.3541 - val_loss: 0.3520\n",
      "Epoch 16/100\n",
      "60000/60000 [==============================] - 2s 34us/step - loss: 0.3497 - val_loss: 0.3478\n",
      "Epoch 17/100\n",
      "60000/60000 [==============================] - 2s 30us/step - loss: 0.3456 - val_loss: 0.3439\n",
      "Epoch 18/100\n",
      "60000/60000 [==============================] - 1s 25us/step - loss: 0.3419 - val_loss: 0.3403\n",
      "Epoch 19/100\n",
      "60000/60000 [==============================] - 2s 27us/step - loss: 0.3384 - val_loss: 0.3369\n",
      "Epoch 20/100\n",
      "60000/60000 [==============================] - 2s 26us/step - loss: 0.3352 - val_loss: 0.3338\n",
      "Epoch 21/100\n",
      "60000/60000 [==============================] - 2s 26us/step - loss: 0.3322 - val_loss: 0.3310\n",
      "Epoch 22/100\n",
      "60000/60000 [==============================] - 2s 26us/step - loss: 0.3295 - val_loss: 0.3283\n",
      "Epoch 23/100\n",
      "60000/60000 [==============================] - 2s 27us/step - loss: 0.3269 - val_loss: 0.3258\n",
      "Epoch 24/100\n",
      "60000/60000 [==============================] - 2s 26us/step - loss: 0.3244 - val_loss: 0.3234\n",
      "Epoch 25/100\n",
      "60000/60000 [==============================] - 2s 29us/step - loss: 0.3222 - val_loss: 0.3212\n",
      "Epoch 26/100\n",
      "60000/60000 [==============================] - 2s 28us/step - loss: 0.3200 - val_loss: 0.3192\n",
      "Epoch 27/100\n",
      "60000/60000 [==============================] - 2s 26us/step - loss: 0.3180 - val_loss: 0.3172\n",
      "Epoch 28/100\n",
      "60000/60000 [==============================] - 2s 28us/step - loss: 0.3162 - val_loss: 0.3154\n",
      "Epoch 29/100\n",
      "60000/60000 [==============================] - 2s 26us/step - loss: 0.3144 - val_loss: 0.3137\n",
      "Epoch 30/100\n",
      "60000/60000 [==============================] - 2s 27us/step - loss: 0.3127 - val_loss: 0.3121\n",
      "Epoch 31/100\n",
      "60000/60000 [==============================] - 2s 27us/step - loss: 0.3112 - val_loss: 0.3105\n",
      "Epoch 32/100\n",
      "60000/60000 [==============================] - 2s 27us/step - loss: 0.3097 - val_loss: 0.3091\n",
      "Epoch 33/100\n",
      "60000/60000 [==============================] - 2s 26us/step - loss: 0.3083 - val_loss: 0.3077\n",
      "Epoch 34/100\n",
      "60000/60000 [==============================] - 2s 26us/step - loss: 0.3069 - val_loss: 0.3064\n",
      "Epoch 35/100\n",
      "60000/60000 [==============================] - 2s 28us/step - loss: 0.3056 - val_loss: 0.3051\n",
      "Epoch 36/100\n",
      "60000/60000 [==============================] - 2s 28us/step - loss: 0.3044 - val_loss: 0.3040\n",
      "Epoch 37/100\n",
      "60000/60000 [==============================] - 2s 27us/step - loss: 0.3033 - val_loss: 0.3028\n",
      "Epoch 38/100\n",
      "60000/60000 [==============================] - 2s 27us/step - loss: 0.3022 - val_loss: 0.3018\n",
      "Epoch 39/100\n",
      "60000/60000 [==============================] - 2s 28us/step - loss: 0.3012 - val_loss: 0.3008\n",
      "Epoch 40/100\n",
      "60000/60000 [==============================] - 2s 27us/step - loss: 0.3002 - val_loss: 0.2998\n",
      "Epoch 41/100\n",
      "60000/60000 [==============================] - 2s 41us/step - loss: 0.2992 - val_loss: 0.2989\n",
      "Epoch 42/100\n",
      "60000/60000 [==============================] - 10892s 182ms/step - loss: 0.2983 - val_loss: 0.2980\n",
      "Epoch 43/100\n",
      "60000/60000 [==============================] - 4s 74us/step - loss: 0.2975 - val_loss: 0.2971\n",
      "Epoch 44/100\n",
      "60000/60000 [==============================] - 5s 88us/step - loss: 0.2966 - val_loss: 0.2963\n",
      "Epoch 45/100\n",
      "60000/60000 [==============================] - 3s 46us/step - loss: 0.2958 - val_loss: 0.2955\n",
      "Epoch 46/100\n",
      "60000/60000 [==============================] - 3s 48us/step - loss: 0.2951 - val_loss: 0.2948\n",
      "Epoch 47/100\n",
      "60000/60000 [==============================] - 2s 32us/step - loss: 0.2943 - val_loss: 0.2941\n",
      "Epoch 48/100\n",
      "60000/60000 [==============================] - 3s 53us/step - loss: 0.2936 - val_loss: 0.2934\n",
      "Epoch 49/100\n",
      "60000/60000 [==============================] - 3s 43us/step - loss: 0.2930 - val_loss: 0.2927\n",
      "Epoch 50/100\n",
      "60000/60000 [==============================] - ETA: 0s - loss: 0.292 - 3s 47us/step - loss: 0.2923 - val_loss: 0.2921\n",
      "Epoch 51/100\n",
      "60000/60000 [==============================] - 2s 38us/step - loss: 0.2917 - val_loss: 0.2915\n",
      "Epoch 52/100\n",
      "60000/60000 [==============================] - 2s 28us/step - loss: 0.2911 - val_loss: 0.2909\n",
      "Epoch 53/100\n",
      "60000/60000 [==============================] - 2s 32us/step - loss: 0.2905 - val_loss: 0.2903\n",
      "Epoch 54/100\n",
      "60000/60000 [==============================] - 2s 29us/step - loss: 0.2900 - val_loss: 0.2897\n",
      "Epoch 55/100\n",
      "60000/60000 [==============================] - 2s 32us/step - loss: 0.2894 - val_loss: 0.2892\n",
      "Epoch 56/100\n",
      "60000/60000 [==============================] - 2s 34us/step - loss: 0.2889 - val_loss: 0.2887\n",
      "Epoch 57/100\n",
      "60000/60000 [==============================] - 2s 29us/step - loss: 0.2884 - val_loss: 0.2882\n",
      "Epoch 58/100\n",
      "60000/60000 [==============================] - 2s 29us/step - loss: 0.2879 - val_loss: 0.2877\n",
      "Epoch 59/100\n",
      "60000/60000 [==============================] - 2s 29us/step - loss: 0.2875 - val_loss: 0.2873\n",
      "Epoch 60/100\n",
      "60000/60000 [==============================] - 2s 26us/step - loss: 0.2870 - val_loss: 0.2868\n",
      "Epoch 61/100\n",
      "60000/60000 [==============================] - 2s 28us/step - loss: 0.2866 - val_loss: 0.2864\n",
      "Epoch 62/100\n",
      "60000/60000 [==============================] - 2s 27us/step - loss: 0.2861 - val_loss: 0.2860\n",
      "Epoch 63/100\n",
      "60000/60000 [==============================] - 2s 28us/step - loss: 0.2857 - val_loss: 0.2856\n",
      "Epoch 64/100\n",
      "60000/60000 [==============================] - 2s 26us/step - loss: 0.2853 - val_loss: 0.2852\n",
      "Epoch 65/100\n",
      "60000/60000 [==============================] - 2s 26us/step - loss: 0.2850 - val_loss: 0.2848\n",
      "Epoch 66/100\n",
      "60000/60000 [==============================] - 2s 26us/step - loss: 0.2846 - val_loss: 0.2844\n",
      "Epoch 67/100\n",
      "60000/60000 [==============================] - 2s 26us/step - loss: 0.2842 - val_loss: 0.2841\n",
      "Epoch 68/100\n",
      "60000/60000 [==============================] - 2s 27us/step - loss: 0.2839 - val_loss: 0.2837\n",
      "Epoch 69/100\n",
      "60000/60000 [==============================] - 2s 37us/step - loss: 0.2835 - val_loss: 0.2834\n",
      "Epoch 70/100\n",
      "60000/60000 [==============================] - 2s 25us/step - loss: 0.2832 - val_loss: 0.2830\n",
      "Epoch 71/100\n",
      "60000/60000 [==============================] - 2s 25us/step - loss: 0.2829 - val_loss: 0.2827\n",
      "Epoch 72/100\n",
      "60000/60000 [==============================] - 1s 25us/step - loss: 0.2826 - val_loss: 0.2824\n",
      "Epoch 73/100\n",
      "60000/60000 [==============================] - 2s 26us/step - loss: 0.2823 - val_loss: 0.2821\n",
      "Epoch 74/100\n",
      "60000/60000 [==============================] - 2s 25us/step - loss: 0.2820 - val_loss: 0.2818\n",
      "Epoch 75/100\n",
      "60000/60000 [==============================] - 2s 25us/step - loss: 0.2817 - val_loss: 0.2815\n",
      "Epoch 76/100\n",
      "60000/60000 [==============================] - 2s 25us/step - loss: 0.2814 - val_loss: 0.2813\n"
     ]
    },
    {
     "name": "stdout",
     "output_type": "stream",
     "text": [
      "Epoch 77/100\n",
      "60000/60000 [==============================] - 1s 24us/step - loss: 0.2811 - val_loss: 0.2810\n",
      "Epoch 78/100\n",
      "60000/60000 [==============================] - 1s 25us/step - loss: 0.2809 - val_loss: 0.2807\n",
      "Epoch 79/100\n",
      "60000/60000 [==============================] - 2s 25us/step - loss: 0.2806 - val_loss: 0.2805\n",
      "Epoch 80/100\n",
      "60000/60000 [==============================] - 2s 25us/step - loss: 0.2804 - val_loss: 0.2802\n",
      "Epoch 81/100\n",
      "60000/60000 [==============================] - 1s 24us/step - loss: 0.2801 - val_loss: 0.2800\n",
      "Epoch 82/100\n",
      "60000/60000 [==============================] - 1s 25us/step - loss: 0.2799 - val_loss: 0.2797\n",
      "Epoch 83/100\n",
      "60000/60000 [==============================] - 1s 24us/step - loss: 0.2796 - val_loss: 0.2795\n",
      "Epoch 84/100\n",
      "60000/60000 [==============================] - 1s 25us/step - loss: 0.2794 - val_loss: 0.2793\n",
      "Epoch 85/100\n",
      "60000/60000 [==============================] - 2s 25us/step - loss: 0.2792 - val_loss: 0.2791\n",
      "Epoch 86/100\n",
      "60000/60000 [==============================] - 1s 25us/step - loss: 0.2790 - val_loss: 0.2788\n",
      "Epoch 87/100\n",
      "60000/60000 [==============================] - 1s 24us/step - loss: 0.2788 - val_loss: 0.2786\n",
      "Epoch 88/100\n",
      "60000/60000 [==============================] - 1s 25us/step - loss: 0.2786 - val_loss: 0.2784\n",
      "Epoch 89/100\n",
      "60000/60000 [==============================] - 1s 24us/step - loss: 0.2784 - val_loss: 0.2782\n",
      "Epoch 90/100\n",
      "60000/60000 [==============================] - 2s 25us/step - loss: 0.2782 - val_loss: 0.2780\n",
      "Epoch 91/100\n",
      "60000/60000 [==============================] - 1s 25us/step - loss: 0.2780 - val_loss: 0.2778\n",
      "Epoch 92/100\n",
      "60000/60000 [==============================] - 1s 25us/step - loss: 0.2778 - val_loss: 0.2776\n",
      "Epoch 93/100\n",
      "60000/60000 [==============================] - 1s 25us/step - loss: 0.2776 - val_loss: 0.2775\n",
      "Epoch 94/100\n",
      "60000/60000 [==============================] - 1s 24us/step - loss: 0.2774 - val_loss: 0.2773\n",
      "Epoch 95/100\n",
      "60000/60000 [==============================] - 1s 25us/step - loss: 0.2772 - val_loss: 0.2771\n",
      "Epoch 96/100\n",
      "60000/60000 [==============================] - 1s 25us/step - loss: 0.2771 - val_loss: 0.2769\n",
      "Epoch 97/100\n",
      "60000/60000 [==============================] - 1s 25us/step - loss: 0.2769 - val_loss: 0.2768\n",
      "Epoch 98/100\n",
      "60000/60000 [==============================] - 1s 25us/step - loss: 0.2767 - val_loss: 0.2766\n",
      "Epoch 99/100\n",
      "60000/60000 [==============================] - 1s 24us/step - loss: 0.2766 - val_loss: 0.2764\n",
      "Epoch 100/100\n",
      "60000/60000 [==============================] - 1s 25us/step - loss: 0.2764 - val_loss: 0.2763\n"
     ]
    },
    {
     "data": {
      "text/plain": [
       "<keras.callbacks.History at 0x20dff9c18d0>"
      ]
     },
     "execution_count": 19,
     "metadata": {},
     "output_type": "execute_result"
    }
   ],
   "source": [
    "autoencoder.fit(x_train, x_train,\n",
    "                epochs=100,\n",
    "                batch_size=256,\n",
    "                shuffle=True,\n",
    "                validation_data=(x_test, x_test))"
   ]
  },
  {
   "cell_type": "code",
   "execution_count": null,
   "metadata": {},
   "outputs": [],
   "source": []
  }
 ],
 "metadata": {
  "kernelspec": {
   "display_name": "Python 3",
   "language": "python",
   "name": "python3"
  },
  "language_info": {
   "codemirror_mode": {
    "name": "ipython",
    "version": 3
   },
   "file_extension": ".py",
   "mimetype": "text/x-python",
   "name": "python",
   "nbconvert_exporter": "python",
   "pygments_lexer": "ipython3",
   "version": "3.6.8"
  },
  "varInspector": {
   "cols": {
    "lenName": 16,
    "lenType": 16,
    "lenVar": 40
   },
   "kernels_config": {
    "python": {
     "delete_cmd_postfix": "",
     "delete_cmd_prefix": "del ",
     "library": "var_list.py",
     "varRefreshCmd": "print(var_dic_list())"
    },
    "r": {
     "delete_cmd_postfix": ") ",
     "delete_cmd_prefix": "rm(",
     "library": "var_list.r",
     "varRefreshCmd": "cat(var_dic_list()) "
    }
   },
   "types_to_exclude": [
    "module",
    "function",
    "builtin_function_or_method",
    "instance",
    "_Feature"
   ],
   "window_display": false
  }
 },
 "nbformat": 4,
 "nbformat_minor": 2
}
