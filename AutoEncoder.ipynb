{
 "cells": [
  {
   "cell_type": "code",
   "execution_count": 5,
   "metadata": {},
   "outputs": [
    {
     "name": "stdout",
     "output_type": "stream",
     "text": [
      "[NbConvertApp] Converting notebook AutoEncoder.ipynb to python\n",
      "[NbConvertApp] Writing 1705 bytes to AutoEncoder.py\n"
     ]
    }
   ],
   "source": [
    "!jupyter nbconvert --to=python AutoEncoder.ipynb"
   ]
  },
  {
   "cell_type": "code",
   "execution_count": 1,
   "metadata": {},
   "outputs": [
    {
     "name": "stderr",
     "output_type": "stream",
     "text": [
      "Using TensorFlow backend.\n"
     ]
    }
   ],
   "source": [
    "from keras import Model\n",
    "from keras.layers import Conv2D, MaxPooling2D, UpSampling2D, Input, Dense\n",
    "import numpy as np\n",
    "import matplotlib.pyplot as plt\n",
    "from keras.models import load_model"
   ]
  },
  {
   "cell_type": "code",
   "execution_count": 2,
   "metadata": {},
   "outputs": [],
   "source": [
    "# load dataset\n",
    "# MNIST, for now\n",
    "from keras.datasets import mnist\n",
    "(x_train, y_train), (x_test, y_test) = mnist.load_data()\n",
    "img_width, img_height, img_depth = x_train.shape[1], x_train.shape[2], 1"
   ]
  },
  {
   "cell_type": "code",
   "execution_count": 3,
   "metadata": {},
   "outputs": [],
   "source": [
    "# Data preparation\n",
    "x_train = x_train/256\n",
    "x_test = x_test/256\n",
    "x_train = x_train.reshape(len(x_train), img_width, img_height, img_depth)\n",
    "x_test = x_test.reshape(len(x_test), img_width, img_height, img_depth)"
   ]
  },
  {
   "cell_type": "code",
   "execution_count": 4,
   "metadata": {},
   "outputs": [
    {
     "name": "stderr",
     "output_type": "stream",
     "text": [
      "WARNING: Logging before flag parsing goes to stderr.\n",
      "W0715 14:42:23.597991 47352237524032 deprecation_wrapper.py:119] From /cluster/home/akozharin/python_envs/keras/lib/python3.6/site-packages/keras/backend/tensorflow_backend.py:74: The name tf.get_default_graph is deprecated. Please use tf.compat.v1.get_default_graph instead.\n",
      "\n",
      "W0715 14:42:23.610045 47352237524032 deprecation_wrapper.py:119] From /cluster/home/akozharin/python_envs/keras/lib/python3.6/site-packages/keras/backend/tensorflow_backend.py:517: The name tf.placeholder is deprecated. Please use tf.compat.v1.placeholder instead.\n",
      "\n",
      "W0715 14:42:23.612736 47352237524032 deprecation_wrapper.py:119] From /cluster/home/akozharin/python_envs/keras/lib/python3.6/site-packages/keras/backend/tensorflow_backend.py:4138: The name tf.random_uniform is deprecated. Please use tf.random.uniform instead.\n",
      "\n",
      "W0715 14:42:23.625343 47352237524032 deprecation_wrapper.py:119] From /cluster/home/akozharin/python_envs/keras/lib/python3.6/site-packages/keras/backend/tensorflow_backend.py:3976: The name tf.nn.max_pool is deprecated. Please use tf.nn.max_pool2d instead.\n",
      "\n",
      "W0715 14:42:23.651610 47352237524032 deprecation_wrapper.py:119] From /cluster/home/akozharin/python_envs/keras/lib/python3.6/site-packages/keras/backend/tensorflow_backend.py:2018: The name tf.image.resize_nearest_neighbor is deprecated. Please use tf.compat.v1.image.resize_nearest_neighbor instead.\n",
      "\n"
     ]
    }
   ],
   "source": [
    "input_img = Input(\n",
    "    shape=(x_train.shape[1], x_train.shape[2], 1)\n",
    ")\n",
    "x = Conv2D(16, (3, 3), activation='relu', padding='same')(input_img)\n",
    "x = MaxPooling2D((2, 2), padding='same')(x)\n",
    "x = Conv2D(8, (3, 3), activation='relu', padding='same')(x)\n",
    "encoded = MaxPooling2D((2, 2), padding='same')(x)\n",
    "\n",
    "x = Conv2D(8, (3, 3), activation='relu', padding='same')(encoded)\n",
    "x = UpSampling2D((2, 2))(x)\n",
    "x = Conv2D(16, (3, 3), activation='relu', padding='same')(x)\n",
    "x = UpSampling2D((2, 2))(x)\n",
    "decoded = Conv2D(1, (3, 3), activation='relu', padding='same')(x)"
   ]
  },
  {
   "cell_type": "code",
   "execution_count": 5,
   "metadata": {},
   "outputs": [],
   "source": [
    "autoencoder = Model(input_img, decoded)"
   ]
  },
  {
   "cell_type": "code",
   "execution_count": 7,
   "metadata": {},
   "outputs": [
    {
     "name": "stderr",
     "output_type": "stream",
     "text": [
      "W0715 14:42:23.695525 47352237524032 deprecation_wrapper.py:119] From /cluster/home/akozharin/python_envs/keras/lib/python3.6/site-packages/keras/optimizers.py:790: The name tf.train.Optimizer is deprecated. Please use tf.compat.v1.train.Optimizer instead.\n",
      "\n",
      "W0715 14:42:23.707782 47352237524032 deprecation_wrapper.py:119] From /cluster/home/akozharin/python_envs/keras/lib/python3.6/site-packages/keras/backend/tensorflow_backend.py:3376: The name tf.log is deprecated. Please use tf.math.log instead.\n",
      "\n",
      "W0715 14:42:23.711881 47352237524032 deprecation.py:323] From /cluster/home/akozharin/python_envs/keras/lib/python3.6/site-packages/tensorflow/python/ops/nn_impl.py:180: add_dispatch_support.<locals>.wrapper (from tensorflow.python.ops.array_ops) is deprecated and will be removed in a future version.\n",
      "Instructions for updating:\n",
      "Use tf.where in 2.0, which has the same broadcast rule as np.where\n"
     ]
    }
   ],
   "source": [
    "autoencoder.compile(optimizer='adadelta', loss='binary_crossentropy')"
   ]
  },
  {
   "cell_type": "code",
   "execution_count": 8,
   "metadata": {
    "scrolled": true
   },
   "outputs": [
    {
     "name": "stderr",
     "output_type": "stream",
     "text": [
      "W0715 14:42:23.921315 47352237524032 deprecation_wrapper.py:119] From /cluster/home/akozharin/python_envs/keras/lib/python3.6/site-packages/keras/backend/tensorflow_backend.py:986: The name tf.assign_add is deprecated. Please use tf.compat.v1.assign_add instead.\n",
      "\n"
     ]
    },
    {
     "name": "stdout",
     "output_type": "stream",
     "text": [
      "Train on 60000 samples, validate on 10000 samples\n",
      "Epoch 1/10\n",
      "60000/60000 [==============================] - 28s 459us/step - loss: 0.1749 - val_loss: 0.1278\n",
      "Epoch 2/10\n",
      "60000/60000 [==============================] - 27s 450us/step - loss: 0.1270 - val_loss: 0.1224\n",
      "Epoch 3/10\n",
      "60000/60000 [==============================] - 27s 454us/step - loss: 0.1168 - val_loss: 0.1079\n",
      "Epoch 4/10\n",
      "60000/60000 [==============================] - 27s 453us/step - loss: 0.1097 - val_loss: 0.1050\n",
      "Epoch 5/10\n",
      "60000/60000 [==============================] - 27s 451us/step - loss: 0.1065 - val_loss: 0.1008\n",
      "Epoch 6/10\n",
      "60000/60000 [==============================] - 27s 454us/step - loss: 0.1034 - val_loss: 0.0977\n",
      "Epoch 7/10\n",
      "60000/60000 [==============================] - 27s 451us/step - loss: 0.1010 - val_loss: 0.0972\n",
      "Epoch 8/10\n",
      "60000/60000 [==============================] - 27s 451us/step - loss: 0.1008 - val_loss: 0.0965\n",
      "Epoch 9/10\n",
      "60000/60000 [==============================] - 27s 453us/step - loss: 0.0985 - val_loss: 0.0949\n",
      "Epoch 10/10\n",
      "60000/60000 [==============================] - 27s 452us/step - loss: 0.0980 - val_loss: 0.0947\n"
     ]
    },
    {
     "data": {
      "text/plain": [
       "<keras.callbacks.History at 0x2b1157977780>"
      ]
     },
     "execution_count": 8,
     "metadata": {},
     "output_type": "execute_result"
    }
   ],
   "source": [
    "NUM_EPOCHS = 100\n",
    "autoencoder.fit(\n",
    "    x_train, x_train, \n",
    "    epochs=NUM_EPOCHS, \n",
    "    batch_size=128, \n",
    "    shuffle=True, \n",
    "    validation_data=(x_test, x_test)\n",
    ")"
   ]
  },
  {
   "cell_type": "markdown",
   "metadata": {},
   "source": [
    "## Save the model"
   ]
  },
  {
   "cell_type": "code",
   "execution_count": 12,
   "metadata": {},
   "outputs": [],
   "source": [
    "FILENAME = 'example_save.h5'\n",
    "autoencoder.save(FILENAME)"
   ]
  }
 ],
 "metadata": {
  "kernelspec": {
   "display_name": "Python 3",
   "language": "python",
   "name": "python3"
  },
  "language_info": {
   "codemirror_mode": {
    "name": "ipython",
    "version": 3
   },
   "file_extension": ".py",
   "mimetype": "text/x-python",
   "name": "python",
   "nbconvert_exporter": "python",
   "pygments_lexer": "ipython3",
   "version": "3.6.0"
  }
 },
 "nbformat": 4,
 "nbformat_minor": 2
}
